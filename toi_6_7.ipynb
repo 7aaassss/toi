{
  "nbformat": 4,
  "nbformat_minor": 0,
  "metadata": {
    "colab": {
      "provenance": []
    },
    "kernelspec": {
      "name": "python3",
      "display_name": "Python 3"
    },
    "language_info": {
      "name": "python"
    }
  },
  "cells": [
    {
      "cell_type": "code",
      "execution_count": 1,
      "metadata": {
        "id": "vN-FYo5MUVVF"
      },
      "outputs": [],
      "source": [
        "import numpy as np"
      ]
    },
    {
      "cell_type": "code",
      "source": [
        "# определение функции активации (сигмоида) и её производной\n",
        "def sigmoid(x):\n",
        "    return 1 / (1 + np.exp(-x))\n",
        "\n",
        "def sigmoid_derivative(x):\n",
        "    return x * (1 - x)"
      ],
      "metadata": {
        "id": "UcJoJow3VIbE"
      },
      "execution_count": 2,
      "outputs": []
    },
    {
      "cell_type": "code",
      "source": [
        "class NeuralNetwork:\n",
        "    def __init__(self, input_size, hidden_size, output_size, learning_rate=0.1):\n",
        "        # инициализация весов\n",
        "        self.weights_input_hidden = np.random.rand(input_size, hidden_size)\n",
        "        self.weights_hidden_output = np.random.rand(hidden_size, output_size)\n",
        "        self.learning_rate = learning_rate\n",
        "\n",
        "    # прямое распространение\n",
        "    def forward(self, X):\n",
        "        self.input = X\n",
        "        self.hidden = sigmoid(np.dot(self.input, self.weights_input_hidden))\n",
        "        self.output = sigmoid(np.dot(self.hidden, self.weights_hidden_output))\n",
        "        return self.output\n",
        "\n",
        "    # обратное распространение\n",
        "    def backward(self, y_true):\n",
        "        # ошибка\n",
        "        output_error = y_true - self.output\n",
        "        output_delta = output_error * sigmoid_derivative(self.output)\n",
        "\n",
        "        hidden_error = output_delta.dot(self.weights_hidden_output.T)\n",
        "        hidden_delta = hidden_error * sigmoid_derivative(self.hidden)\n",
        "\n",
        "        # обновляем веса\n",
        "        self.weights_hidden_output += self.hidden.T.dot(output_delta) * self.learning_rate\n",
        "        self.weights_input_hidden += self.input.T.dot(hidden_delta) * self.learning_rate\n",
        "\n",
        "    # обучение сети\n",
        "    def train(self, X, y, epochs=10000):\n",
        "        for epoch in range(epochs):\n",
        "            output = self.forward(X)\n",
        "            self.backward(y)\n",
        "            if epoch % 1000 == 0:\n",
        "                loss = np.mean(np.square(y - output))\n",
        "                print(f\"Epoch {epoch}, Loss: {loss}\")"
      ],
      "metadata": {
        "id": "dcS9_6SeVKM2"
      },
      "execution_count": 3,
      "outputs": []
    },
    {
      "cell_type": "code",
      "source": [
        "\n",
        "    X = np.array([[0, 0], [0, 1], [1, 0], [1, 1]])\n",
        "    y = np.array([[0], [1], [1], [0]])\n",
        "\n",
        "    #обучение\n",
        "    nn = NeuralNetwork(input_size=2, hidden_size=2, output_size=1)\n",
        "    nn.train(X, y, epochs=10000)\n",
        "\n",
        "    # тесты\n",
        "    print(\"Predictions after training:\")\n",
        "    print(nn.forward(X))"
      ],
      "metadata": {
        "colab": {
          "base_uri": "https://localhost:8080/"
        },
        "id": "oKP6UzIpVNJz",
        "outputId": "71a0615c-29df-45c7-db6e-e9427884289d"
      },
      "execution_count": 4,
      "outputs": [
        {
          "output_type": "stream",
          "name": "stdout",
          "text": [
            "Epoch 0, Loss: 0.25156458171959606\n",
            "Epoch 1000, Loss: 0.24998319371222052\n",
            "Epoch 2000, Loss: 0.24994782580921404\n",
            "Epoch 3000, Loss: 0.24984644967489816\n",
            "Epoch 4000, Loss: 0.24945786413199114\n",
            "Epoch 5000, Loss: 0.24709665320605506\n",
            "Epoch 6000, Loss: 0.23059512977013494\n",
            "Epoch 7000, Loss: 0.1943435729637345\n",
            "Epoch 8000, Loss: 0.16025775078259583\n",
            "Epoch 9000, Loss: 0.13379231384792042\n",
            "Predictions after training:\n",
            "[[0.27533843]\n",
            " [0.67850807]\n",
            " [0.67861133]\n",
            " [0.41413108]]\n"
          ]
        }
      ]
    },
    {
      "cell_type": "code",
      "source": [
        "import numpy as np\n",
        "\n",
        "# класс для алгоритма Хебба\n",
        "class hebb:\n",
        "    def __init__(self, input_size, learning_rate=0.1):\n",
        "        # инициализируем веса случайными значениями\n",
        "        self.weights = np.random.randn(input_size)\n",
        "        self.learning_rate = learning_rate\n",
        "\n",
        "    def train(self, X):\n",
        "        # обучение на каждом примере из данных X\n",
        "        for x in X:\n",
        "            y = self.activate(x)  # активация нейрона\n",
        "            # изменение весов по правилу Хебба\n",
        "            self.weights += self.learning_rate * x * y\n",
        "\n",
        "    def activate(self, x):\n",
        "        # простая активационная функция (например, пороговая)\n",
        "        return 1 if np.dot(self.weights, x) > 0 else 0\n",
        "\n",
        "# пример использования\n",
        "X = np.array([[1, 0], [0, 1], [1, 1], [0, 0]])  # входные данные\n",
        "hebb_net = hebb(input_size=2)\n",
        "hebb_net.train(X)\n",
        "print(\"Веса после обучения:\", hebb_net.weights)\n"
      ],
      "metadata": {
        "colab": {
          "base_uri": "https://localhost:8080/"
        },
        "id": "v3xdtywUXIic",
        "outputId": "ce086274-d928-40a5-e8ae-4aa9485ac5c0"
      },
      "execution_count": 5,
      "outputs": [
        {
          "output_type": "stream",
          "name": "stdout",
          "text": [
            "Веса после обучения: [-1.49923868  0.53649722]\n"
          ]
        }
      ]
    },
    {
      "cell_type": "code",
      "source": [
        "import numpy as np\n",
        "\n",
        "\n",
        "class koh:\n",
        "    def __init__(self, input_size, map_size, learning_rate=0.5, radius=1.0):\n",
        "        # инициализируем карту случайными весами\n",
        "        self.map_size = map_size\n",
        "        self.weights = np.random.randn(map_size, map_size, input_size)\n",
        "        self.learning_rate = learning_rate\n",
        "        self.radius = radius\n",
        "\n",
        "    def train(self, X, epochs=100):\n",
        "        # обучение сети\n",
        "        for epoch in range(epochs):\n",
        "            for x in X:\n",
        "                winner = self.find_winner(x)  # поиск нейрона-победителя\n",
        "                self.update_weights(x, winner)  # обновление весов победителя и соседей\n",
        "\n",
        "    def find_winner(self, x):\n",
        "        # находим нейрон с минимальным расстоянием до вектора x\n",
        "        distances = np.linalg.norm(self.weights - x, axis=2)\n",
        "        winner_idx = np.unravel_index(np.argmin(distances), (self.map_size, self.map_size))\n",
        "        return winner_idx\n",
        "\n",
        "    def update_weights(self, x, winner):\n",
        "        # обновляем веса нейронов в радиусе победителя\n",
        "        for i in range(self.map_size):\n",
        "            for j in range(self.map_size):\n",
        "                dist_to_winner = np.sqrt((i - winner[0])**2 + (j - winner[1])**2)\n",
        "                if dist_to_winner <= self.radius:\n",
        "                    # обновляем веса с учетом радиуса\n",
        "                    self.weights[i, j] += self.learning_rate * (x - self.weights[i, j])\n",
        "\n",
        "\n",
        "X = np.array([[0.2, 0.7], [0.8, 0.3], [0.6, 0.9], [0.1, 0.5]])  # входные данные\n",
        "som = koh(input_size=2, map_size=3)\n",
        "som.train(X)\n",
        "print(\"Веса после обучения:\", som.weights)\n"
      ],
      "metadata": {
        "colab": {
          "base_uri": "https://localhost:8080/"
        },
        "id": "SetTQ3sbXVI6",
        "outputId": "e21726b2-01d1-45e2-8c08-75b3ec8420f8"
      },
      "execution_count": 6,
      "outputs": [
        {
          "output_type": "stream",
          "name": "stdout",
          "text": [
            "Веса после обучения: [[[ 0.8         0.3       ]\n",
            "  [ 0.6         0.7       ]\n",
            "  [ 0.2         0.7       ]]\n",
            "\n",
            " [[ 0.66666667  0.7       ]\n",
            "  [ 0.6         0.9       ]\n",
            "  [ 0.25714286  0.64285714]]\n",
            "\n",
            " [[-1.84499322  1.15601579]\n",
            "  [ 0.26666667  0.63333333]\n",
            "  [ 0.1         0.5       ]]]\n"
          ]
        }
      ]
    }
  ]
}